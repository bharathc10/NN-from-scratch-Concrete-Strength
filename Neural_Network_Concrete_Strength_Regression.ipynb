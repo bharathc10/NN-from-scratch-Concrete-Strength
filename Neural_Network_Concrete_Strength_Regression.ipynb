{
 "cells": [
  {
   "cell_type": "code",
   "execution_count": 1,
   "id": "7628f815-3e64-4f02-9ef6-30e386127bda",
   "metadata": {},
   "outputs": [],
   "source": [
    "import numpy as np\n",
    "import pandas as pd\n",
    "import matplotlib.pyplot as plt\n",
    "from sklearn.model_selection import train_test_split\n",
    "from sklearn.preprocessing import StandardScaler\n",
    "from sklearn.metrics import mean_squared_error, r2_score\n",
    "import time"
   ]
  },
  {
   "cell_type": "code",
   "execution_count": 2,
   "id": "bf236e9b-9f24-47c5-acc8-a87b85ffc1ce",
   "metadata": {},
   "outputs": [
    {
     "data": {
      "text/html": [
       "<div>\n",
       "<style scoped>\n",
       "    .dataframe tbody tr th:only-of-type {\n",
       "        vertical-align: middle;\n",
       "    }\n",
       "\n",
       "    .dataframe tbody tr th {\n",
       "        vertical-align: top;\n",
       "    }\n",
       "\n",
       "    .dataframe thead th {\n",
       "        text-align: right;\n",
       "    }\n",
       "</style>\n",
       "<table border=\"1\" class=\"dataframe\">\n",
       "  <thead>\n",
       "    <tr style=\"text-align: right;\">\n",
       "      <th></th>\n",
       "      <th>Cement (component 1)(kg in a m^3 mixture)</th>\n",
       "      <th>Blast Furnace Slag (component 2)(kg in a m^3 mixture)</th>\n",
       "      <th>Fly Ash (component 3)(kg in a m^3 mixture)</th>\n",
       "      <th>Water  (component 4)(kg in a m^3 mixture)</th>\n",
       "      <th>Superplasticizer (component 5)(kg in a m^3 mixture)</th>\n",
       "      <th>Coarse Aggregate  (component 6)(kg in a m^3 mixture)</th>\n",
       "      <th>Fine Aggregate (component 7)(kg in a m^3 mixture)</th>\n",
       "      <th>Age (day)</th>\n",
       "      <th>Concrete compressive strength(MPa, megapascals)</th>\n",
       "    </tr>\n",
       "  </thead>\n",
       "  <tbody>\n",
       "    <tr>\n",
       "      <th>0</th>\n",
       "      <td>540.0</td>\n",
       "      <td>0.0</td>\n",
       "      <td>0.0</td>\n",
       "      <td>162.0</td>\n",
       "      <td>2.5</td>\n",
       "      <td>1040.0</td>\n",
       "      <td>676.0</td>\n",
       "      <td>28</td>\n",
       "      <td>79.986111</td>\n",
       "    </tr>\n",
       "    <tr>\n",
       "      <th>1</th>\n",
       "      <td>540.0</td>\n",
       "      <td>0.0</td>\n",
       "      <td>0.0</td>\n",
       "      <td>162.0</td>\n",
       "      <td>2.5</td>\n",
       "      <td>1055.0</td>\n",
       "      <td>676.0</td>\n",
       "      <td>28</td>\n",
       "      <td>61.887366</td>\n",
       "    </tr>\n",
       "    <tr>\n",
       "      <th>2</th>\n",
       "      <td>332.5</td>\n",
       "      <td>142.5</td>\n",
       "      <td>0.0</td>\n",
       "      <td>228.0</td>\n",
       "      <td>0.0</td>\n",
       "      <td>932.0</td>\n",
       "      <td>594.0</td>\n",
       "      <td>270</td>\n",
       "      <td>40.269535</td>\n",
       "    </tr>\n",
       "    <tr>\n",
       "      <th>3</th>\n",
       "      <td>332.5</td>\n",
       "      <td>142.5</td>\n",
       "      <td>0.0</td>\n",
       "      <td>228.0</td>\n",
       "      <td>0.0</td>\n",
       "      <td>932.0</td>\n",
       "      <td>594.0</td>\n",
       "      <td>365</td>\n",
       "      <td>41.052780</td>\n",
       "    </tr>\n",
       "    <tr>\n",
       "      <th>4</th>\n",
       "      <td>198.6</td>\n",
       "      <td>132.4</td>\n",
       "      <td>0.0</td>\n",
       "      <td>192.0</td>\n",
       "      <td>0.0</td>\n",
       "      <td>978.4</td>\n",
       "      <td>825.5</td>\n",
       "      <td>360</td>\n",
       "      <td>44.296075</td>\n",
       "    </tr>\n",
       "  </tbody>\n",
       "</table>\n",
       "</div>"
      ],
      "text/plain": [
       "   Cement (component 1)(kg in a m^3 mixture)  \\\n",
       "0                                      540.0   \n",
       "1                                      540.0   \n",
       "2                                      332.5   \n",
       "3                                      332.5   \n",
       "4                                      198.6   \n",
       "\n",
       "   Blast Furnace Slag (component 2)(kg in a m^3 mixture)  \\\n",
       "0                                                0.0       \n",
       "1                                                0.0       \n",
       "2                                              142.5       \n",
       "3                                              142.5       \n",
       "4                                              132.4       \n",
       "\n",
       "   Fly Ash (component 3)(kg in a m^3 mixture)  \\\n",
       "0                                         0.0   \n",
       "1                                         0.0   \n",
       "2                                         0.0   \n",
       "3                                         0.0   \n",
       "4                                         0.0   \n",
       "\n",
       "   Water  (component 4)(kg in a m^3 mixture)  \\\n",
       "0                                      162.0   \n",
       "1                                      162.0   \n",
       "2                                      228.0   \n",
       "3                                      228.0   \n",
       "4                                      192.0   \n",
       "\n",
       "   Superplasticizer (component 5)(kg in a m^3 mixture)  \\\n",
       "0                                                2.5     \n",
       "1                                                2.5     \n",
       "2                                                0.0     \n",
       "3                                                0.0     \n",
       "4                                                0.0     \n",
       "\n",
       "   Coarse Aggregate  (component 6)(kg in a m^3 mixture)  \\\n",
       "0                                             1040.0      \n",
       "1                                             1055.0      \n",
       "2                                              932.0      \n",
       "3                                              932.0      \n",
       "4                                              978.4      \n",
       "\n",
       "   Fine Aggregate (component 7)(kg in a m^3 mixture)  Age (day)  \\\n",
       "0                                              676.0         28   \n",
       "1                                              676.0         28   \n",
       "2                                              594.0        270   \n",
       "3                                              594.0        365   \n",
       "4                                              825.5        360   \n",
       "\n",
       "   Concrete compressive strength(MPa, megapascals)   \n",
       "0                                         79.986111  \n",
       "1                                         61.887366  \n",
       "2                                         40.269535  \n",
       "3                                         41.052780  \n",
       "4                                         44.296075  "
      ]
     },
     "execution_count": 2,
     "metadata": {},
     "output_type": "execute_result"
    }
   ],
   "source": [
    "# Load the dataset\n",
    "df = pd.read_excel('Concrete_Data.xls')\n",
    "df.head()"
   ]
  },
  {
   "cell_type": "code",
   "execution_count": 3,
   "id": "b9c74e5c-d526-4cfe-834b-6030535f44d4",
   "metadata": {},
   "outputs": [
    {
     "name": "stdout",
     "output_type": "stream",
     "text": [
      "<class 'pandas.core.frame.DataFrame'>\n",
      "RangeIndex: 1030 entries, 0 to 1029\n",
      "Data columns (total 9 columns):\n",
      " #   Column                                                 Non-Null Count  Dtype  \n",
      "---  ------                                                 --------------  -----  \n",
      " 0   Cement (component 1)(kg in a m^3 mixture)              1030 non-null   float64\n",
      " 1   Blast Furnace Slag (component 2)(kg in a m^3 mixture)  1030 non-null   float64\n",
      " 2   Fly Ash (component 3)(kg in a m^3 mixture)             1030 non-null   float64\n",
      " 3   Water  (component 4)(kg in a m^3 mixture)              1030 non-null   float64\n",
      " 4   Superplasticizer (component 5)(kg in a m^3 mixture)    1030 non-null   float64\n",
      " 5   Coarse Aggregate  (component 6)(kg in a m^3 mixture)   1030 non-null   float64\n",
      " 6   Fine Aggregate (component 7)(kg in a m^3 mixture)      1030 non-null   float64\n",
      " 7   Age (day)                                              1030 non-null   int64  \n",
      " 8   Concrete compressive strength(MPa, megapascals)        1030 non-null   float64\n",
      "dtypes: float64(8), int64(1)\n",
      "memory usage: 72.5 KB\n"
     ]
    }
   ],
   "source": [
    "df.info()"
   ]
  },
  {
   "cell_type": "code",
   "execution_count": 5,
   "id": "1ee4f00f-77b8-40bb-9478-bc2b3af3e80f",
   "metadata": {},
   "outputs": [
    {
     "data": {
      "text/plain": [
       "Cement (component 1)(kg in a m^3 mixture)                0\n",
       "Blast Furnace Slag (component 2)(kg in a m^3 mixture)    0\n",
       "Fly Ash (component 3)(kg in a m^3 mixture)               0\n",
       "Water  (component 4)(kg in a m^3 mixture)                0\n",
       "Superplasticizer (component 5)(kg in a m^3 mixture)      0\n",
       "Coarse Aggregate  (component 6)(kg in a m^3 mixture)     0\n",
       "Fine Aggregate (component 7)(kg in a m^3 mixture)        0\n",
       "Age (day)                                                0\n",
       "Concrete compressive strength(MPa, megapascals)          0\n",
       "dtype: int64"
      ]
     },
     "execution_count": 5,
     "metadata": {},
     "output_type": "execute_result"
    }
   ],
   "source": [
    "df.isnull().sum()"
   ]
  },
  {
   "cell_type": "code",
   "execution_count": 6,
   "id": "970e573a-b185-4312-957f-df69bf21708b",
   "metadata": {},
   "outputs": [],
   "source": [
    "# Splitting features (X) and target (y)\n",
    "X = df.drop(columns=['Concrete compressive strength(MPa, megapascals) '])\n",
    "y = df['Concrete compressive strength(MPa, megapascals) ']\n",
    "\n",
    "X_train, X_test, y_train, y_test = train_test_split(X, y, test_size=0.2, random_state=42)"
   ]
  },
  {
   "cell_type": "code",
   "execution_count": 7,
   "id": "84ab515a-7cdb-4b52-85e5-9516ea72a2f8",
   "metadata": {},
   "outputs": [],
   "source": [
    "# Scaling\n",
    "scaler = StandardScaler()\n",
    "X_train_scaled = scaler.fit_transform(X_train)\n",
    "X_test_scaled = scaler.transform(X_test)"
   ]
  },
  {
   "cell_type": "code",
   "execution_count": 8,
   "id": "51f1c564-87f1-495b-8602-24e771dce938",
   "metadata": {},
   "outputs": [],
   "source": [
    "# NN from Scratch\n",
    "class NN:\n",
    "    def __init__(self, input_size, hidden_size, output_size):\n",
    "        # Initialize weights randomly\n",
    "        self.W1 = np.random.randn(input_size, hidden_size)\n",
    "        self.b1 = np.zeros(hidden_size)\n",
    "        self.W2 = np.random.randn(hidden_size, output_size)\n",
    "        self.b2 = np.zeros(output_size)\n",
    "\n",
    "    def relu(self, z):\n",
    "        return np.maximum(0, z)\n",
    "\n",
    "    def relu_derivative(self, z):\n",
    "        return z > 0\n",
    "\n",
    "    def forward(self, X):\n",
    "        \"\"\"Forward pass\"\"\"\n",
    "        self.z1 = X.dot(self.W1) + self.b1\n",
    "        self.a1 = self.relu(self.z1)\n",
    "        self.z2 = self.a1.dot(self.W2) + self.b2\n",
    "        return self.z2  # Output (linear activation)\n",
    "\n",
    "    def backward(self, X, y, y_hat, alpha):\n",
    "        \"\"\"Backward pass (backpropagation)\"\"\"\n",
    "        m = len(y)\n",
    "\n",
    "        # Gradient of loss w.r.t output layer\n",
    "        dz2 = y_hat - y.reshape(-1, 1)\n",
    "\n",
    "        # Gradients for W2 and b2\n",
    "        dW2 = (1/m) * np.dot(self.a1.T, dz2)\n",
    "        db2 = (1/m) * np.sum(dz2, axis=0)\n",
    "\n",
    "        # Gradient of hidden layer\n",
    "        dz1 = np.dot(dz2, self.W2.T) * self.relu_derivative(self.a1)\n",
    "\n",
    "        # Gradients for W1 and b1\n",
    "        dW1 = (1/m) * np.dot(X.T, dz1)\n",
    "        db1 = (1/m) * np.sum(dz1, axis=0)\n",
    "\n",
    "        # Update weights and biases\n",
    "        self.W2 -= alpha * dW2\n",
    "        self.b2 -= alpha * db2\n",
    "        self.W1 -= alpha * dW1\n",
    "        self.b1 -= alpha * db1\n",
    "\n",
    "    def train(self, X, y, epochs=1000, alpha=0.01):\n",
    "        cost_values = []\n",
    "        y = np.array(y).reshape(-1, 1)  # Convert y to a NumPy array and reshape\n",
    "        for epoch in range(epochs):\n",
    "            y_hat = self.forward(X)\n",
    "            cost = np.mean((y_hat - y) ** 2)\n",
    "            cost_values.append(cost)\n",
    "            self.backward(X, y, y_hat, alpha)\n",
    "        return cost_values"
   ]
  },
  {
   "cell_type": "code",
   "execution_count": 9,
   "id": "930f6efe-ae7b-4a1e-a3fc-e957771c56d7",
   "metadata": {},
   "outputs": [],
   "source": [
    "# Initialize NN parameters\n",
    "input_size = X_train_scaled.shape[1]\n",
    "hidden_size = 10  # Hidden layer size\n",
    "output_size = 1   # Output size (regression)\n",
    "\n",
    "# Train NN from scratch\n",
    "nn_scratch = NN(input_size, hidden_size, output_size)\n",
    "\n",
    "# Record time\n",
    "start_time = time.time()\n",
    "cost_values_scratch = nn_scratch.train(X_train_scaled, y_train, epochs=1000, alpha=0.01)\n",
    "end_time = time.time()\n",
    "time_scratch = end_time - start_time\n",
    "\n",
    "# Predictions\n",
    "y_test_pred_scratch = nn_scratch.forward(X_test_scaled)"
   ]
  },
  {
   "cell_type": "code",
   "execution_count": 10,
   "id": "b2b5f3d8-75b3-4617-bebe-6c39c44d2fbf",
   "metadata": {},
   "outputs": [
    {
     "name": "stdout",
     "output_type": "stream",
     "text": [
      "Scratch Model - Test MSE: 36.0192\n",
      "Scratch Model - Test R²: 0.8602\n",
      "Scratch Model - Training Time: 0.14 seconds\n"
     ]
    },
    {
     "data": {
      "image/png": "[encoded data removed]",
      "text/plain": [
       "<Figure size 640x480 with 1 Axes>"
      ]
     },
     "metadata": {},
     "output_type": "display_data"
    }
   ],
   "source": [
    "# Evaluation of Scratch Model\n",
    "mse_test_scratch = mean_squared_error(y_test, y_test_pred_scratch)\n",
    "r2_test_scratch = r2_score(y_test, y_test_pred_scratch)\n",
    "\n",
    "# Results\n",
    "print(f\"Scratch Model - Test MSE: {mse_test_scratch:.4f}\")\n",
    "print(f\"Scratch Model - Test R²: {r2_test_scratch:.4f}\")\n",
    "print(f\"Scratch Model - Training Time: {time_scratch:.2f} seconds\")\n",
    "\n",
    "# Plots\n",
    "plt.plot(cost_values_scratch)\n",
    "plt.title('Scratch Model Training Loss (MSE) Over Epochs')\n",
    "plt.xlabel('Epochs')\n",
    "plt.ylabel('Loss (MSE)')\n",
    "plt.show()"
   ]
  },
  {
   "cell_type": "code",
   "execution_count": 11,
   "id": "fafc2115-dd71-44a3-9b45-7ccbb0bb79c2",
   "metadata": {},
   "outputs": [],
   "source": [
    "# NN with Keras\n",
    "\n",
    "from tensorflow.keras.models import Sequential\n",
    "from tensorflow.keras.layers import Dense\n",
    "from tensorflow.keras.optimizers.legacy import Adam"
   ]
  },
  {
   "cell_type": "code",
   "execution_count": 12,
   "id": "70ac472d-4eb9-4b2f-950d-635a85b25ec9",
   "metadata": {},
   "outputs": [
    {
     "name": "stdout",
     "output_type": "stream",
     "text": [
      "7/7 [==============================] - 0s 582us/step\n"
     ]
    }
   ],
   "source": [
    "# Keras model\n",
    "model = Sequential([\n",
    "    Dense(10, activation='relu', input_shape=(X_train_scaled.shape[1],)),\n",
    "    Dense(1)\n",
    "])\n",
    "\n",
    "model.compile(optimizer=Adam(learning_rate=0.01), loss='mean_squared_error')\n",
    "\n",
    "# Record training time\n",
    "start_time_keras = time.time()\n",
    "\n",
    "# Train the Keras model\n",
    "history_keras = model.fit(X_train_scaled, y_train, epochs=1000, verbose=0)\n",
    "\n",
    "end_time_keras = time.time()\n",
    "time_keras = end_time_keras - start_time_keras\n",
    "\n",
    "# Predict on test data using Keras model\n",
    "y_test_pred_keras = model.predict(X_test_scaled)"
   ]
  },
  {
   "cell_type": "code",
   "execution_count": 13,
   "id": "4ad0ac2c-bcb9-48e6-82ef-18504fccb2c9",
   "metadata": {},
   "outputs": [
    {
     "name": "stdout",
     "output_type": "stream",
     "text": [
      "Keras Model - Test MSE: 36.6451\n",
      "Keras Model - Test R²: 0.8578\n",
      "Keras Model - Training Time: 11.68 seconds\n"
     ]
    },
    {
     "data": {
      "image/png": "[encoded data removed]",
      "text/plain": [
       "<Figure size 640x480 with 1 Axes>"
      ]
     },
     "metadata": {},
     "output_type": "display_data"
    }
   ],
   "source": [
    "# Evaluation of Keras Model\n",
    "mse_test_keras = mean_squared_error(y_test, y_test_pred_keras)\n",
    "r2_test_keras = r2_score(y_test, y_test_pred_keras)\n",
    "\n",
    "# Results\n",
    "print(f\"Keras Model - Test MSE: {mse_test_keras:.4f}\")\n",
    "print(f\"Keras Model - Test R²: {r2_test_keras:.4f}\")\n",
    "print(f\"Keras Model - Training Time: {time_keras:.2f} seconds\")\n",
    "\n",
    "# Plots\n",
    "plt.plot(history_keras.history['loss'])\n",
    "plt.title('Keras Model Training Loss (MSE) Over Epochs')\n",
    "plt.xlabel('Epochs')\n",
    "plt.ylabel('Loss (MSE)')\n",
    "plt.show()"
   ]
  },
  {
   "cell_type": "code",
   "execution_count": 14,
   "id": "29660150-fe33-4f1f-8808-b8db2c6665f9",
   "metadata": {},
   "outputs": [
    {
     "name": "stdout",
     "output_type": "stream",
     "text": [
      "\n",
      "Comparison:\n",
      "Scratch Model - MSE: 36.0192, R²: 0.8602, Time: 0.14 seconds\n",
      "Keras Model   - MSE: 36.6451, R²: 0.8578, Time: 11.68 seconds\n"
     ]
    }
   ],
   "source": [
    "# Comparison\n",
    "\n",
    "print(\"\\nComparison:\")\n",
    "print(f\"Scratch Model - MSE: {mse_test_scratch:.4f}, R²: {r2_test_scratch:.4f}, Time: {time_scratch:.2f} seconds\")\n",
    "print(f\"Keras Model   - MSE: {mse_test_keras:.4f}, R²: {r2_test_keras:.4f}, Time: {time_keras:.2f} seconds\")"
   ]
  }
 ],
 "metadata": {
  "kernelspec": {
   "display_name": "Python 3 (ipykernel)",
   "language": "python",
   "name": "python3"
  },
  "language_info": {
   "codemirror_mode": {
    "name": "ipython",
    "version": 3
   },
   "file_extension": ".py",
   "mimetype": "text/x-python",
   "name": "python",
   "nbconvert_exporter": "python",
   "pygments_lexer": "ipython3",
   "version": "3.11.0"
  }
 },
 "nbformat": 4,
 "nbformat_minor": 5
}
